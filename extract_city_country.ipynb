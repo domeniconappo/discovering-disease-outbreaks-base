{
 "cells": [
  {
   "cell_type": "code",
   "execution_count": 55,
   "metadata": {
    "collapsed": true,
    "pycharm": {
     "is_executing": false
    }
   },
   "outputs": [
    {
     "name": "stdout",
     "text": [
      "No city found in Louisiana Zika cases up to 26\nNo city found in Zika infects pregnant woman in Cebu\nNo city found in Spanish Flu Sighted in Antigua\n",
      "No city found in Zika case reported in Oton\nNo city found in Hillsborough uses innovative trap against Zika 20 minutes ago\nNo city found in Maka City Experiences Influenza Outbreak\n",
      "No city found in West Nile Virus Outbreak in Saint Johns\n",
      "No city found in Malaria Exposure in Sussex\nNo city found in Greenwich Establishes Zika Task Force\nNo city found in Will West Nile Virus vaccine help Parsons?\nNo city found in Zika case reported in Los Fresnos\n",
      "No city found in More people in Boucau are infected with HIV every year\nNo city found in Bronchitis Outbreak in Manhasset\nNo city found in Rumors about Influenza Spreading in Dobbs Ferry have been Refuted\n",
      "No city found in More people in Huron are infected with Dengue every year\nNo city found in Will Tuberculosis vaccine help Cherry Creek?\nNo city found in Gympie Patient in Critical Condition after Contracting Chlamydia\n",
      "No city found in Martinsville tests new cure for Measles\nNo city found in More Patients in Magnolia are Getting Diagnosed with Malaria\nNo city found in Rumors about Syphilis spreading in Penal have been refuted\nNo city found in Fort Belvoir tests new cure for Hepatitis C\nNo city found in More people in Oak Brook are infected with Respiratory Syncytial Virus every year\n",
      "No city found in Longwood volunteers spreading Zika awareness\nNo city found in Zika symptoms spotted in Quixere\nNo city found in Measles Hits Davos\n",
      "No city found in Schools in Coamo Closed Due to Rhinovirus Outbreak\nNo city found in Zika arrives in Dangriga\nNo city found in More Patients in Maynard are Getting Diagnosed with Syphilis\nNo city found in Zika case reported in Antioquia\nNo city found in Chikungunya has not Left Pismo Beach\nNo city found in Zika spreads to La Joya\nCould not find a city mention in 31 headlines\n"
     ],
     "output_type": "stream"
    }
   ],
   "source": [
    "import re\n",
    "\n",
    "import pandas as pd\n",
    "from unidecode import unidecode\n",
    "import geonamescache\n",
    "\n",
    "\n",
    "def get_longest_match(matches):\n",
    "    # get longest city name found in text\n",
    "    lens = [len(m) for m in matches]\n",
    "    max_len = max(lens)\n",
    "    return matches[lens.index(max_len)]\n",
    "\n",
    "\n",
    "gc = geonamescache.GeonamesCache()\n",
    "countries = gc.get_countries()\n",
    "cities = gc.get_cities().values()\n",
    "\n",
    "city_names = '|'.join([unidecode(c['name']) for c in cities])\n",
    "\n",
    "# prepare a dict with unidecoded city names as key\n",
    "# useful to get city country data with geonamescache (which has unicoded names)\n",
    "for c in cities:\n",
    "    c['unidecoded_name'] = unidecode(c['name']).lower()\n",
    "cities_by_unidecoded_name = {c['unidecoded_name']: c for c in cities}\n",
    "\n",
    "# regex to find a city name in text\n",
    "city_list = f'({city_names})'\n",
    "re_city = re.compile(f'\\\\b{city_list}\\\\b', flags=re.IGNORECASE)\n",
    "\n",
    "# data structure\n",
    "d = {'headline': [], 'city': [], 'country': []}\n",
    "\n",
    "# analyzing headlines\n",
    "with open('data/headlines.txt') as data:\n",
    "    for hl in data:\n",
    "        # work on a unidecoded string\n",
    "        hl = unidecode(hl.strip())\n",
    "        \n",
    "        matches = re_city.findall(hl)\n",
    "        if matches:\n",
    "            # put all matches from re.findall into a list\n",
    "            matches = [m[0] for m in matches]\n",
    "            # get the longest match...heuristic...\n",
    "            match = get_longest_match(matches)\n",
    "            # fetch the entire city ad country data from geonamescache\n",
    "            city_unicode_name = cities_by_unidecoded_name[match.lower()]['name']\n",
    "            city_dict = list(gc.get_cities_by_name(city_unicode_name)[0].values())[0]\n",
    "            country = countries[city_dict['countrycode']]\n",
    "            \n",
    "            # add data\n",
    "            d['headline'].append(hl)\n",
    "            d['city'].append(city_dict)\n",
    "            d['country'].append(country)\n",
    "        \n",
    "        else:\n",
    "            print('No city found in' , hl)\n",
    "            # we still add headline to our structure to deeper analysis\n",
    "            d['headline'].append(hl)\n",
    "            d['city'].append(None)\n",
    "            d['country'].append(None)\n",
    "\n",
    "no_city_num = len([c for c in d['city'] if c is None])\n",
    "print('Could not find a city mention in', no_city_num, 'headlines')\n",
    "# put everything into a DataFrame\n",
    "df = pd.DataFrame(data=d)\n",
    "df.to_pickle('./data/task_1.pkl')"
   ]
  }
 ],
 "metadata": {
  "kernelspec": {
   "display_name": "Python 3",
   "language": "python",
   "name": "python3"
  },
  "language_info": {
   "codemirror_mode": {
    "name": "ipython",
    "version": 2
   },
   "file_extension": ".py",
   "mimetype": "text/x-python",
   "name": "python",
   "nbconvert_exporter": "python",
   "pygments_lexer": "ipython2",
   "version": "2.7.6"
  },
  "pycharm": {
   "stem_cell": {
    "cell_type": "raw",
    "source": [],
    "metadata": {
     "collapsed": false
    }
   }
  }
 },
 "nbformat": 4,
 "nbformat_minor": 0
}